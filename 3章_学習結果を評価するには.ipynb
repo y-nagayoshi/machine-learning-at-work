{
  "nbformat": 4,
  "nbformat_minor": 0,
  "metadata": {
    "colab": {
      "provenance": [],
      "authorship_tag": "ABX9TyMxtLxoQ0uNZ4xnI+LF26sy",
      "include_colab_link": true
    },
    "kernelspec": {
      "name": "python3",
      "display_name": "Python 3"
    },
    "language_info": {
      "name": "python"
    }
  },
  "cells": [
    {
      "cell_type": "markdown",
      "metadata": {
        "id": "view-in-github",
        "colab_type": "text"
      },
      "source": [
        "<a href=\"https://colab.research.google.com/github/y-nagayoshi/machine-learning-at-work/blob/main/3%E7%AB%A0_%E5%AD%A6%E7%BF%92%E7%B5%90%E6%9E%9C%E3%82%92%E8%A9%95%E4%BE%A1%E3%81%99%E3%82%8B%E3%81%AB%E3%81%AF.ipynb\" target=\"_parent\"><img src=\"https://colab.research.google.com/assets/colab-badge.svg\" alt=\"Open In Colab\"/></a>"
      ]
    },
    {
      "cell_type": "code",
      "execution_count": 14,
      "metadata": {
        "colab": {
          "base_uri": "https://localhost:8080/"
        },
        "id": "hXt4Ejb7QI7g",
        "outputId": "5ae47006-ef5f-4aff-ae25-c55b24ed61ba"
      },
      "outputs": [
        {
          "output_type": "execute_result",
          "data": {
            "text/plain": [
              "array([[13,  0],\n",
              "       [ 0, 12]])"
            ]
          },
          "metadata": {},
          "execution_count": 14
        }
      ],
      "source": [
        "# jupyter notebook latex\n",
        "# https://nbviewer.org/github/ipython/ipython/blob/2.x/examples/Notebook/Display%20System.ipynb#LaTeX\n",
        "\n",
        "from sklearn.model_selection import train_test_split\n",
        "from sklearn.metrics import confusion_matrix\n",
        "from sklearn.datasets import make_classification\n",
        "from sklearn import svm\n",
        "\n",
        "data, label = make_classification(\n",
        "    n_samples=100,\n",
        "    random_state=12,\n",
        "    n_features=2,\n",
        "    n_redundant=0,\n",
        "    n_informative=1,\n",
        "    n_clusters_per_class=1,\n",
        "    n_classes=2\n",
        "  )\n",
        "\n",
        "data_train, data_test, label_train, label_test = train_test_split(data, label)\n",
        "\n",
        "classifier = svm.SVC(kernel='linear')\n",
        "label_pred = classifier.fit(data_train, label_train).predict(data_test)\n",
        "\n",
        "cm = confusion_matrix(label_test, label_pred)\n",
        "cm"
      ]
    },
    {
      "cell_type": "code",
      "source": [
        "from sklearn.metrics import roc_curve\n",
        "import matplotlib.pyplot as plt\n",
        "\n",
        "y_pass = [0, 0, 0, 1, 0, 0, 1, 0, 1, 1]\n",
        "y_score = [0.1, 0.2, 0.4, 0.45, 0.5, 0.65, 0.7, 0.8, 0.85, 0.95]\n",
        "\n",
        "fpr, tpr, thresholds = roc_curve(y_pass, y_score)\n",
        "\n",
        "plt.plot(fpr, tpr, marker='o')\n",
        "plt.xlabel('FPR: False Positive Rate')\n",
        "plt.ylabel('TPR: True Positive Rate')\n",
        "plt.grid()\n",
        "plt.show()"
      ],
      "metadata": {
        "colab": {
          "base_uri": "https://localhost:8080/",
          "height": 449
        },
        "id": "IZNyPXWvS07D",
        "outputId": "36e77fab-0646-4d1b-b9d8-fa9806b1246a"
      },
      "execution_count": 6,
      "outputs": [
        {
          "output_type": "display_data",
          "data": {
            "text/plain": [
              "<Figure size 640x480 with 1 Axes>"
            ],
            "image/png": "[encoded data removed]"
          },
          "metadata": {}
        }
      ]
    },
    {
      "cell_type": "code",
      "source": [
        "from sklearn.metrics import auc, roc_auc_score\n",
        "print(f\"AUC func {auc(fpr, tpr)}\")\n",
        "print(f\"AUC roc_auc_score {roc_auc_score(y_pass, y_score)}\")"
      ],
      "metadata": {
        "colab": {
          "base_uri": "https://localhost:8080/"
        },
        "id": "3jCbhszSUo7R",
        "outputId": "8381d0d0-a02e-4258-92ed-6c799f9dd4a5"
      },
      "execution_count": 8,
      "outputs": [
        {
          "output_type": "stream",
          "name": "stdout",
          "text": [
            "AUC func 0.8333333333333333\n",
            "AUC roc_auc_score 0.8333333333333333\n"
          ]
        }
      ]
    },
    {
      "cell_type": "markdown",
      "source": [
        "## 3.2　回帰の評価\n",
        "### 3.2.1　平均二乗誤差\n",
        "\n",
        "\\begin{eqnarray}\n",
        "RMSE & = \\sqrt{\\frac{\\Sigma_i(予測値_i - 実測値_i)^2}{N}} \\\\\n",
        "\\end{eqnarray}"
      ],
      "metadata": {
        "id": "vRD6rhSMXsVW"
      }
    },
    {
      "cell_type": "code",
      "source": [
        "from sklearn.metrics import mean_squared_error\n",
        "from math import sqrt\n",
        "from sklearn.datasets import make_regression\n",
        "import numpy as np\n",
        "\n",
        "array_size = 100\n",
        "y_actual = np.random.randint(0, 100, size=array_size)\n",
        "y_predict = np.random.randint(0, 100, size=array_size)\n",
        "\n",
        "rms = mean_squared_error(y_actual, y_predict)\n",
        "rms"
      ],
      "metadata": {
        "colab": {
          "base_uri": "https://localhost:8080/"
        },
        "id": "QHPz37NrVD3e",
        "outputId": "d6652a5b-9b43-43ee-c263-b81c041c999d"
      },
      "execution_count": 11,
      "outputs": [
        {
          "output_type": "execute_result",
          "data": {
            "text/plain": [
              "1830.79"
            ]
          },
          "metadata": {},
          "execution_count": 11
        }
      ]
    },
    {
      "cell_type": "markdown",
      "source": [
        "### 3.2.2　決定係数\n",
        "\n",
        "\\begin{eqnarray}\n",
        "決定係数(R^2) & = 1 - \\frac{\\Sigma_i(実測値_i - 予測値_i)^2}{\\Sigma_i(実測値_i - 実測値の平均_i)^2} \\\\\n",
        "\\end{eqnarray}"
      ],
      "metadata": {
        "id": "rCEjCujEZjnx"
      }
    },
    {
      "cell_type": "code",
      "source": [
        "from sklearn.linear_model import LinearRegression\n",
        "\n",
        "x, y, coef = make_regression(\n",
        "    random_state=12,\n",
        "    n_samples=100,\n",
        "    n_features=4,\n",
        "    n_informative=2,\n",
        "    noise=10.0,\n",
        "    bias=-0.0,\n",
        "    coef=True\n",
        "  )\n",
        "\n",
        "lr = LinearRegression()\n",
        "\n",
        "lr.fit(x, y)\n",
        "\n",
        "from sklearn.metrics import r2_score\n",
        "r2 = r2_score(y, lr.predict(x))\n",
        "r2"
      ],
      "metadata": {
        "colab": {
          "base_uri": "https://localhost:8080/"
        },
        "id": "as21AThRaFZ9",
        "outputId": "523c5e7d-b5ca-47f0-b70c-4cbad33a2c23"
      },
      "execution_count": 17,
      "outputs": [
        {
          "output_type": "execute_result",
          "data": {
            "text/plain": [
              "0.9915476615445875"
            ]
          },
          "metadata": {},
          "execution_count": 17
        }
      ]
    },
    {
      "cell_type": "code",
      "source": [
        "## 88"
      ],
      "metadata": {
        "id": "XiEWqo_2a6pp"
      },
      "execution_count": null,
      "outputs": []
    }
  ]
}